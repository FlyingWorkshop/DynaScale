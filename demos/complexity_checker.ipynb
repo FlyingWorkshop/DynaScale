{
 "cells": [
  {
   "cell_type": "code",
   "execution_count": 10,
   "metadata": {},
   "outputs": [
    {
     "name": "stdout",
     "output_type": "stream",
     "text": [
      " ."
     ]
    },
    {
     "name": "stderr",
     "output_type": "stream",
     "text": [
      "/home/victorvh/vincent-dynadojo/.venv/lib/python3.10/site-packages/EntropyHub/_MvFuzzEn.py:130: RuntimeWarning: invalid value encountered in divide\n",
      "  if Norm: Data = Data/np.std(Data,axis=0)\n"
     ]
    },
    {
     "name": "stdout",
     "output_type": "stream",
     "text": [
      " . . . .CI = 0.009207920142832669\n",
      "MXs = [-0.          0.00796833  0.00926765  0.01193731  0.01686631]\n"
     ]
    }
   ],
   "source": [
    "## Multivariate Multiscale Entropy Checker\n",
    "\n",
    "import EntropyHub as EH\n",
    "from dynadojo.utils.complexity_measures import multi_en\n",
    "\n",
    "data = EH.ExampleData('lorenz')\n",
    "CI, MSx = multi_en(data, Scales = 5, return_info=True)\n",
    "\n",
    "print(\"CI =\", CI)\n",
    "print(\"MXs =\", MSx)\n",
    "\n",
    "## Expected Result:\n",
    "    # CI = 0.009207920142832669\n",
    "    # MSx = [0,  0.00796833,  0.00926765,  0.01193731,  0.01686631]"
   ]
  },
  {
   "cell_type": "code",
   "execution_count": 9,
   "metadata": {},
   "outputs": [
    {
     "name": "stdout",
     "output_type": "stream",
     "text": [
      "Henon = 1.1966998623023235\n",
      "Ikeda = 1.6655615149093121\n",
      "Lorenz = 2.0340554794568835\n",
      "Rossler = 2.0988051447250458\n"
     ]
    }
   ],
   "source": [
    "## Correlation Dimension Checker\n",
    "\n",
    "import numpy as np\n",
    "from dynadojo.utils.complexity_measures import corr_dim\n",
    "\n",
    "data = np.loadtxt('/home/victorvh/vincent-dynadojo/demos/Henon_dim2_seed1_timestep1000_inDist.csv', delimiter=',')\n",
    "print(\"Henon =\", corr_dim(data))\n",
    "\n",
    "## Expected Result:\n",
    "    # Henon ≈ 1.261\n",
    "\n",
    "data = np.loadtxt('/home/victorvh/vincent-dynadojo/demos/Ikeda_dim2_seed1_timestep1000_inDist.csv', delimiter=',')\n",
    "print(\"Ikeda =\", corr_dim(data))\n",
    "\n",
    "## Expected Result:\n",
    "    # Ikeda ≈ 1.7\n",
    "\n",
    "data = np.loadtxt('/home/victorvh/vincent-dynadojo/demos/Lorenz_dim3_seed1_timestep1000_inDist.csv', delimiter=',')\n",
    "print(\"Lorenz =\", corr_dim(data))\n",
    "\n",
    "## Expected Result:\n",
    "    # Lorenz ≈ 2.06\n",
    "\n",
    "data = np.loadtxt('/home/victorvh/vincent-dynadojo/demos/Rossler_dim3_seed1_timestep1000_inDist.csv', delimiter=',')\n",
    "print(\"Rossler =\", corr_dim(data))\n",
    "\n",
    "## Expected Result:\n",
    "    # Rossler ≈ 2.01"
   ]
  }
 ],
 "metadata": {
  "kernelspec": {
   "display_name": ".venv",
   "language": "python",
   "name": "python3"
  },
  "language_info": {
   "codemirror_mode": {
    "name": "ipython",
    "version": 3
   },
   "file_extension": ".py",
   "mimetype": "text/x-python",
   "name": "python",
   "nbconvert_exporter": "python",
   "pygments_lexer": "ipython3",
   "version": "3.10.14"
  }
 },
 "nbformat": 4,
 "nbformat_minor": 2
}
