{
 "cells": [
  {
   "cell_type": "code",
   "execution_count": 10,
   "metadata": {},
   "outputs": [
    {
     "name": "stdout",
     "output_type": "stream",
     "text": [
      " ."
     ]
    },
    {
     "name": "stderr",
     "output_type": "stream",
     "text": [
      "/home/victorvh/vincent-dynadojo/.venv/lib/python3.10/site-packages/EntropyHub/_MvFuzzEn.py:130: RuntimeWarning: invalid value encountered in divide\n",
      "  if Norm: Data = Data/np.std(Data,axis=0)\n"
     ]
    },
    {
     "name": "stdout",
     "output_type": "stream",
     "text": [
      " . . . .CI = 0.009207920142832669\n",
      "MXs = [-0.          0.00796833  0.00926765  0.01193731  0.01686631]\n"
     ]
    }
   ],
   "source": [
    "## Multivariate Multiscale Entropy Checker\n",
    "\n",
    "import EntropyHub as EH\n",
    "from dynadojo.utils.complexity_measures import multi_en\n",
    "\n",
    "data = EH.ExampleData('lorenz')\n",
    "CI, MSx = multi_en(data, Scales = 5, return_info=True)\n",
    "\n",
    "print(\"CI =\", CI)\n",
    "print(\"MXs =\", MSx)\n",
    "\n",
    "## Expected Result:\n",
    "    # CI = 0.009207920142832669\n",
    "    # MSx = [0,  0.00796833,  0.00926765,  0.01193731,  0.01686631]"
   ]
  },
  {
   "cell_type": "code",
   "execution_count": 9,
   "metadata": {},
   "outputs": [
    {
     "name": "stdout",
     "output_type": "stream",
     "text": [
      "Henon = 1.1966998623023235\n",
      "Ikeda = 1.6655615149093121\n",
      "Lorenz = 2.0340554794568835\n",
      "Rossler = 2.0988051447250458\n"
     ]
    }
   ],
   "source": [
    "## Correlation Dimension Checker\n",
    "\n",
    "import numpy as np\n",
    "from dynadojo.utils.complexity_measures import corr_dim\n",
    "\n",
    "data = np.loadtxt('/home/victorvh/vincent-dynadojo/demos/Henon_dim2_seed1_timestep1000_inDist.csv', delimiter=',')\n",
    "print(\"Henon =\", corr_dim(data))\n",
    "\n",
    "## Expected Result:\n",
    "    # Henon ≈ 1.261\n",
    "\n",
    "data = np.loadtxt('/home/victorvh/vincent-dynadojo/demos/Ikeda_dim2_seed1_timestep1000_inDist.csv', delimiter=',')\n",
    "print(\"Ikeda =\", corr_dim(data))\n",
    "\n",
    "## Expected Result:\n",
    "    # Ikeda ≈ 1.7\n",
    "\n",
    "data = np.loadtxt('/home/victorvh/vincent-dynadojo/demos/Lorenz_dim3_seed1_timestep1000_inDist.csv', delimiter=',')\n",
    "print(\"Lorenz =\", corr_dim(data))\n",
    "\n",
    "## Expected Result:\n",
    "    # Lorenz ≈ 2.06\n",
    "\n",
    "data = np.loadtxt('/home/victorvh/vincent-dynadojo/demos/Rossler_dim3_seed1_timestep1000_inDist.csv', delimiter=',')\n",
    "print(\"Rossler =\", corr_dim(data))\n",
    "\n",
    "## Expected Result:\n",
    "    # Rossler ≈ 2.01"
   ]
  },
  {
   "cell_type": "code",
   "execution_count": 4,
   "metadata": {},
   "outputs": [
    {
     "ename": "TypeError",
     "evalue": "Value after * must be an iterable, not numpy.float64",
     "output_type": "error",
     "traceback": [
      "\u001b[0;31m---------------------------------------------------------------------------\u001b[0m",
      "\u001b[0;31mTypeError\u001b[0m                                 Traceback (most recent call last)",
      "Cell \u001b[0;32mIn[4], line 19\u001b[0m\n\u001b[1;32m     16\u001b[0m x\u001b[38;5;241m=\u001b[39mnp\u001b[38;5;241m.\u001b[39marray(x)\n\u001b[1;32m     17\u001b[0m tpts \u001b[38;5;241m=\u001b[39m [tpts]\n\u001b[0;32m---> 19\u001b[0m lyapunov_spectrum \u001b[38;5;241m=\u001b[39m \u001b[43mfind_lyapunov_exponents\u001b[49m\u001b[43m(\u001b[49m\u001b[43mx\u001b[49m\u001b[43m,\u001b[49m\u001b[43m \u001b[49m\u001b[43mtpts\u001b[49m\u001b[43m,\u001b[49m\u001b[43m \u001b[49m\u001b[43mtimesteps\u001b[49m\u001b[43m,\u001b[49m\u001b[43m \u001b[49m\u001b[43mmodel\u001b[49m\u001b[43m,\u001b[49m\u001b[43m \u001b[49m\u001b[43mprecomp\u001b[49m\u001b[38;5;241;43m=\u001b[39;49m\u001b[38;5;28;43;01mTrue\u001b[39;49;00m\u001b[43m)\u001b[49m\n\u001b[1;32m     21\u001b[0m \u001b[38;5;28mprint\u001b[39m(lyapunov_spectrum)\n",
      "File \u001b[0;32m~/vincent-dynadojo/src/dynadojo/utils/complexity_measures.py:310\u001b[0m, in \u001b[0;36mfind_lyapunov_exponents\u001b[0;34m(trajectory, tpts, traj_length, model, pts_per_period, precomp, tol, min_tpts, **kwargs)\u001b[0m\n\u001b[1;32m    308\u001b[0m x \u001b[38;5;241m=\u001b[39m trajectory[i]\n\u001b[1;32m    309\u001b[0m \u001b[38;5;28;01mif\u001b[39;00m precomp:\n\u001b[0;32m--> 310\u001b[0m     jacval \u001b[38;5;241m=\u001b[39m np\u001b[38;5;241m.\u001b[39marray(\u001b[43mmodel\u001b[49m\u001b[38;5;241;43m.\u001b[39;49m\u001b[43mjac\u001b[49m\u001b[43m(\u001b[49m\u001b[43mx\u001b[49m\u001b[43m,\u001b[49m\u001b[43m \u001b[49m\u001b[43mt\u001b[49m\u001b[43m)\u001b[49m)\n\u001b[1;32m    311\u001b[0m \u001b[38;5;28;01melse\u001b[39;00m:\n\u001b[1;32m    312\u001b[0m     rhsy \u001b[38;5;241m=\u001b[39m \u001b[38;5;28;01mlambda\u001b[39;00m a: np\u001b[38;5;241m.\u001b[39marray(model\u001b[38;5;241m.\u001b[39mrhs(a, t)) \u001b[38;5;66;03m# define a function 'rhsy', using the model's right hand side diffeq\u001b[39;00m\n",
      "File \u001b[0;32m~/vincent-dynadojo/src/dynadojo/systems/gilpin_lds.py:10\u001b[0m, in \u001b[0;36mDynSys.jac\u001b[0;34m(self, X, t)\u001b[0m\n\u001b[1;32m      8\u001b[0m \u001b[38;5;28;01mdef\u001b[39;00m \u001b[38;5;21mjac\u001b[39m(\u001b[38;5;28mself\u001b[39m, X, t):\n\u001b[1;32m      9\u001b[0m \u001b[38;5;250m    \u001b[39m\u001b[38;5;124;03m\"\"\"The Jacobian of the dynamical system\"\"\"\u001b[39;00m\n\u001b[0;32m---> 10\u001b[0m     out \u001b[38;5;241m=\u001b[39m \u001b[38;5;28mself\u001b[39m\u001b[38;5;241m.\u001b[39m_jac(\u001b[38;5;241m*\u001b[39mX\u001b[38;5;241m.\u001b[39mT, t, alpha\u001b[38;5;241m=\u001b[39m\u001b[38;5;241m-\u001b[39m\u001b[38;5;241m1\u001b[39m)\n\u001b[1;32m     11\u001b[0m     \u001b[38;5;28;01mreturn\u001b[39;00m out\n",
      "\u001b[0;31mTypeError\u001b[0m: Value after * must be an iterable, not numpy.float64"
     ]
    }
   ],
   "source": [
    "import numpy as np\n",
    "from dynadojo.systems.gilpin_lds import LDS\n",
    "from dynadojo.utils.complexity_measures import find_lyapunov_exponents\n",
    "\n",
    "\n",
    "model = LDS()\n",
    "\n",
    "alpha = -1  # Rate of change\n",
    "x0 = 5  # Initial condition\n",
    "t_start = 0  # Start time\n",
    "t_end = 100  # End time\n",
    "timesteps=100\n",
    "\n",
    "tpts = np.linspace(t_start, t_end, timesteps)\n",
    "x = x0 * np.exp(alpha * tpts)\n",
    "x=np.array(x)\n",
    "tpts = [tpts]\n",
    "\n",
    "lyapunov_spectrum = find_lyapunov_exponents(x, tpts, timesteps, model, precomp=True)\n",
    "\n",
    "print(lyapunov_spectrum)"
   ]
  },
  {
   "cell_type": "code",
   "execution_count": 4,
   "metadata": {},
   "outputs": [
    {
     "name": "stdout",
     "output_type": "stream",
     "text": [
      "[  0.06170239  -0.50872132 -12.96323588]\n"
     ]
    }
   ],
   "source": [
    "\n",
    "from dynadojo.systems.gilpin_flows import GilpinFlowsSystem\n",
    "from dynadojo.wrappers import SystemChecker\n",
    "from dynadojo.utils.complexity_measures import find_lyapunov_exponents\n",
    "\n",
    "dimension=3\n",
    "system_name=\"Lorenz\"\n",
    "seed=1\n",
    "timesteps=1000\n",
    "max_timesteps=1000\n",
    "\n",
    "system = SystemChecker(GilpinFlowsSystem(latent_dim=dimension, embed_dim=dimension, system_name=system_name, seed=seed))\n",
    "unwrapped_system = system._system # Reach under SystemChecker to enable \"return_times\" kwarg to GilpinFlowsSystem's \"make_data\" method\n",
    "model = unwrapped_system.system # Reach under GilpinFlowsSystem to access the model for Lyapunov\n",
    "\n",
    "# Generate in distribution trajectory data\n",
    "x0 = system.make_init_conds(1)\n",
    "xtpts, x = unwrapped_system.make_data(x0, timesteps=max_timesteps, return_times=True)\n",
    "x0 = x0[0]\n",
    "x = x[0]\n",
    "xlyapunov_spectrum = find_lyapunov_exponents(x, xtpts, timesteps, model)\n",
    "\n",
    "print(xlyapunov_spectrum)"
   ]
  }
 ],
 "metadata": {
  "kernelspec": {
   "display_name": ".venv",
   "language": "python",
   "name": "python3"
  },
  "language_info": {
   "codemirror_mode": {
    "name": "ipython",
    "version": 3
   },
   "file_extension": ".py",
   "mimetype": "text/x-python",
   "name": "python",
   "nbconvert_exporter": "python",
   "pygments_lexer": "ipython3",
   "version": "3.10.14"
  }
 },
 "nbformat": 4,
 "nbformat_minor": 2
}
