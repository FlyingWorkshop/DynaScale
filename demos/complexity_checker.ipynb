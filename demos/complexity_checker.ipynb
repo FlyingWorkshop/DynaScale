{
 "cells": [
  {
   "cell_type": "code",
   "execution_count": 2,
   "metadata": {},
   "outputs": [
    {
     "name": "stdout",
     "output_type": "stream",
     "text": [
      " . . . . .CI = 0.046039600714163346\n",
      "MXs = [-0.          0.00796833  0.00926765  0.01193731  0.01686631]\n"
     ]
    }
   ],
   "source": [
    "## Multivariate Multiscale Entropy Checker\n",
    "\n",
    "import EntropyHub as EH\n",
    "from dynadojo.utils.complexity_measures import multi_en\n",
    "\n",
    "import warnings\n",
    "warnings.filterwarnings(\"ignore\")\n",
    "\n",
    "data = EH.ExampleData('lorenz')\n",
    "CI, MSx = multi_en(data, Scales = 5, return_info=True)\n",
    "\n",
    "print(\"CI =\", CI)\n",
    "print(\"MXs =\", MSx)\n",
    "\n",
    "## Expected Result:\n",
    "    # CI = 0.046039600714163346\n",
    "    # MSx = [0,  0.00796833,  0.00926765,  0.01193731,  0.01686631]"
   ]
  },
  {
   "cell_type": "code",
   "execution_count": 9,
   "metadata": {},
   "outputs": [
    {
     "name": "stdout",
     "output_type": "stream",
     "text": [
      "Henon = 1.1966998623023235\n",
      "Ikeda = 1.6655615149093121\n",
      "Lorenz = 2.0340554794568835\n",
      "Rossler = 2.0988051447250458\n"
     ]
    }
   ],
   "source": [
    "## Correlation Dimension Checker\n",
    "\n",
    "import numpy as np\n",
    "from dynadojo.utils.complexity_measures import corr_dim\n",
    "\n",
    "data = np.loadtxt('/home/victorvh/vincent-dynadojo/demos/Henon_dim2_seed1_timestep1000_inDist.csv', delimiter=',')\n",
    "print(\"Henon =\", corr_dim(data))\n",
    "\n",
    "## Expected Result:\n",
    "    # Henon ≈ 1.261\n",
    "\n",
    "data = np.loadtxt('/home/victorvh/vincent-dynadojo/demos/Ikeda_dim2_seed1_timestep1000_inDist.csv', delimiter=',')\n",
    "print(\"Ikeda =\", corr_dim(data))\n",
    "\n",
    "## Expected Result:\n",
    "    # Ikeda ≈ 1.7\n",
    "\n",
    "data = np.loadtxt('/home/victorvh/vincent-dynadojo/demos/Lorenz_dim3_seed1_timestep1000_inDist.csv', delimiter=',')\n",
    "print(\"Lorenz =\", corr_dim(data))\n",
    "\n",
    "## Expected Result:\n",
    "    # Lorenz ≈ 2.06\n",
    "\n",
    "data = np.loadtxt('/home/victorvh/vincent-dynadojo/demos/Rossler_dim3_seed1_timestep1000_inDist.csv', delimiter=',')\n",
    "print(\"Rossler =\", corr_dim(data))\n",
    "\n",
    "## Expected Result:\n",
    "    # Rossler ≈ 2.01"
   ]
  },
  {
   "cell_type": "code",
   "execution_count": 5,
   "metadata": {},
   "outputs": [
    {
     "name": "stdout",
     "output_type": "stream",
     "text": [
      "Lorenz: [  0.38943337  -0.57556661 -13.13256029]\n"
     ]
    }
   ],
   "source": [
    "import numpy as np\n",
    "import nolds\n",
    "from dynadojo.systems.gilpin_lds import LDS\n",
    "from dynadojo.utils.complexity_measures import find_lyapunov_exponents\n",
    "\n",
    "# # Toy problem\n",
    "# alpha = -1  # Rate of change, weird behavior for positive alpha\n",
    "# \n",
    "# model = LDS(alpha)\n",
    "# \n",
    "# x0 = 5  # Initial condition\n",
    "# timesteps = 1000\n",
    "# \n",
    "# tpts = []\n",
    "# x = []\n",
    "# x_nolds = []\n",
    "# \n",
    "# for i in range(timesteps):\n",
    "#     x.append([x0 * np.exp(alpha * i)])\n",
    "#     x_nolds.append(x0 * np.exp(alpha * i))\n",
    "#     tpts.append(i)\n",
    "# \n",
    "# tpts = [tpts]\n",
    "# x=np.array(x)\n",
    "# \n",
    "# lyapunov_spectrum = find_lyapunov_exponents(x, tpts, timesteps, model, precomp=True)\n",
    "# print(\"nolds:\", nolds.lyap_e(x_nolds, emb_dim=10, matrix_dim=4)[0])\n",
    "# print(\"gilpin:\", lyapunov_spectrum[0])\n",
    "\n",
    "from dynadojo.wrappers import SystemChecker\n",
    "from dynadojo.systems.gilpin_flows import GilpinFlowsSystem\n",
    "from dynadojo.utils.complexity_measures import find_lyapunov_exponents\n",
    "import numpy as np\n",
    "\n",
    "system = SystemChecker(GilpinFlowsSystem(latent_dim=3, embed_dim=3, system_name=\"Lorenz\", seed=1))\n",
    "unwrapped_system = system._system\n",
    "model = unwrapped_system.system\n",
    "\n",
    "model.beta = 8/3\n",
    "model.rho = 28\n",
    "model.sigma = 10\n",
    "timesteps = 1000\n",
    "x0 = np.array([[-9.7869288, -15.03852, 20.533978]])\n",
    "\n",
    "xtpts, x = unwrapped_system.make_data(x0, timesteps=timesteps, return_times=True)\n",
    "spectrum = find_lyapunov_exponents(x[0], xtpts, timesteps, model)\n",
    "\n",
    "print(\"Lorenz:\", spectrum)"
   ]
  }
 ],
 "metadata": {
  "kernelspec": {
   "display_name": ".venv",
   "language": "python",
   "name": "python3"
  },
  "language_info": {
   "codemirror_mode": {
    "name": "ipython",
    "version": 3
   },
   "file_extension": ".py",
   "mimetype": "text/x-python",
   "name": "python",
   "nbconvert_exporter": "python",
   "pygments_lexer": "ipython3",
   "version": "3.10.14"
  }
 },
 "nbformat": 4,
 "nbformat_minor": 2
}
